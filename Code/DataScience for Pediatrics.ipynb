{
 "cells": [
  {
   "cell_type": "markdown",
   "id": "bf44ef23",
   "metadata": {},
   "source": [
    "# 1- Importation des librairies"
   ]
  },
  {
   "cell_type": "code",
   "execution_count": 1,
   "id": "5bb3db72",
   "metadata": {},
   "outputs": [],
   "source": [
    "import numpy,pandas\n",
    "import matplotlib.pyplot as plt\n",
    "from datetime import datetime, timedelta\n",
    "from copy import copy\n",
    "import math"
   ]
  },
  {
   "cell_type": "markdown",
   "id": "f3e6c692",
   "metadata": {},
   "source": [
    "# Chargement du dataset"
   ]
  },
  {
   "cell_type": "code",
   "execution_count": 2,
   "id": "100b9b6b",
   "metadata": {},
   "outputs": [
    {
     "data": {
      "text/html": [
       "<div>\n",
       "<style scoped>\n",
       "    .dataframe tbody tr th:only-of-type {\n",
       "        vertical-align: middle;\n",
       "    }\n",
       "\n",
       "    .dataframe tbody tr th {\n",
       "        vertical-align: top;\n",
       "    }\n",
       "\n",
       "    .dataframe thead th {\n",
       "        text-align: right;\n",
       "    }\n",
       "</style>\n",
       "<table border=\"1\" class=\"dataframe\">\n",
       "  <thead>\n",
       "    <tr style=\"text-align: right;\">\n",
       "      <th></th>\n",
       "      <th>Date</th>\n",
       "      <th>Slept</th>\n",
       "      <th>Got up</th>\n",
       "      <th>Duration</th>\n",
       "      <th>How quickly fell asleep</th>\n",
       "      <th>How easy got up</th>\n",
       "      <th>How felt afterwards</th>\n",
       "    </tr>\n",
       "  </thead>\n",
       "  <tbody>\n",
       "    <tr>\n",
       "      <th>0</th>\n",
       "      <td>21.10.2017</td>\n",
       "      <td>23:30</td>\n",
       "      <td>05:00</td>\n",
       "      <td>5.50</td>\n",
       "      <td>4.5</td>\n",
       "      <td>4.5</td>\n",
       "      <td>4.0</td>\n",
       "    </tr>\n",
       "    <tr>\n",
       "      <th>1</th>\n",
       "      <td>21.10.2017</td>\n",
       "      <td>11:45</td>\n",
       "      <td>12:10</td>\n",
       "      <td>0.42</td>\n",
       "      <td>4.5</td>\n",
       "      <td>3.5</td>\n",
       "      <td>4.5</td>\n",
       "    </tr>\n",
       "    <tr>\n",
       "      <th>2</th>\n",
       "      <td>22.10.2017</td>\n",
       "      <td>23:00</td>\n",
       "      <td>05:00</td>\n",
       "      <td>6.00</td>\n",
       "      <td>3.5</td>\n",
       "      <td>3.0</td>\n",
       "      <td>3.0</td>\n",
       "    </tr>\n",
       "    <tr>\n",
       "      <th>3</th>\n",
       "      <td>22.10.2017</td>\n",
       "      <td>06:05</td>\n",
       "      <td>09:05</td>\n",
       "      <td>3.00</td>\n",
       "      <td>4.0</td>\n",
       "      <td>4.5</td>\n",
       "      <td>5.0</td>\n",
       "    </tr>\n",
       "    <tr>\n",
       "      <th>4</th>\n",
       "      <td>22.10.2017</td>\n",
       "      <td>14:25</td>\n",
       "      <td>15:50</td>\n",
       "      <td>1.42</td>\n",
       "      <td>3.5</td>\n",
       "      <td>2.5</td>\n",
       "      <td>4.5</td>\n",
       "    </tr>\n",
       "    <tr>\n",
       "      <th>...</th>\n",
       "      <td>...</td>\n",
       "      <td>...</td>\n",
       "      <td>...</td>\n",
       "      <td>...</td>\n",
       "      <td>...</td>\n",
       "      <td>...</td>\n",
       "      <td>...</td>\n",
       "    </tr>\n",
       "    <tr>\n",
       "      <th>161</th>\n",
       "      <td>29.01.2018</td>\n",
       "      <td>00:50</td>\n",
       "      <td>05:50</td>\n",
       "      <td>5.00</td>\n",
       "      <td>3.0</td>\n",
       "      <td>4.5</td>\n",
       "      <td>4.0</td>\n",
       "    </tr>\n",
       "    <tr>\n",
       "      <th>162</th>\n",
       "      <td>30.01.2018</td>\n",
       "      <td>00:15</td>\n",
       "      <td>05:25</td>\n",
       "      <td>5.17</td>\n",
       "      <td>4.0</td>\n",
       "      <td>4.5</td>\n",
       "      <td>5.0</td>\n",
       "    </tr>\n",
       "    <tr>\n",
       "      <th>163</th>\n",
       "      <td>30.01.2018</td>\n",
       "      <td>06:15</td>\n",
       "      <td>08:50</td>\n",
       "      <td>2.58</td>\n",
       "      <td>4.0</td>\n",
       "      <td>2.5</td>\n",
       "      <td>4.0</td>\n",
       "    </tr>\n",
       "    <tr>\n",
       "      <th>164</th>\n",
       "      <td>31.01.2018</td>\n",
       "      <td>00:05</td>\n",
       "      <td>05:28</td>\n",
       "      <td>5.38</td>\n",
       "      <td>5.0</td>\n",
       "      <td>5.0</td>\n",
       "      <td>4.5</td>\n",
       "    </tr>\n",
       "    <tr>\n",
       "      <th>165</th>\n",
       "      <td>31.01.2018</td>\n",
       "      <td>08:30</td>\n",
       "      <td>09:05</td>\n",
       "      <td>0.58</td>\n",
       "      <td>4.5</td>\n",
       "      <td>2.5</td>\n",
       "      <td>5.0</td>\n",
       "    </tr>\n",
       "  </tbody>\n",
       "</table>\n",
       "<p>166 rows × 7 columns</p>\n",
       "</div>"
      ],
      "text/plain": [
       "           Date  Slept Got up  Duration  How quickly fell asleep  \\\n",
       "0    21.10.2017  23:30  05:00      5.50                      4.5   \n",
       "1    21.10.2017  11:45  12:10      0.42                      4.5   \n",
       "2    22.10.2017  23:00  05:00      6.00                      3.5   \n",
       "3    22.10.2017  06:05  09:05      3.00                      4.0   \n",
       "4    22.10.2017  14:25  15:50      1.42                      3.5   \n",
       "..          ...    ...    ...       ...                      ...   \n",
       "161  29.01.2018  00:50  05:50      5.00                      3.0   \n",
       "162  30.01.2018  00:15  05:25      5.17                      4.0   \n",
       "163  30.01.2018  06:15  08:50      2.58                      4.0   \n",
       "164  31.01.2018  00:05  05:28      5.38                      5.0   \n",
       "165  31.01.2018  08:30  09:05      0.58                      4.5   \n",
       "\n",
       "     How easy got up  How felt afterwards  \n",
       "0                4.5                  4.0  \n",
       "1                3.5                  4.5  \n",
       "2                3.0                  3.0  \n",
       "3                4.5                  5.0  \n",
       "4                2.5                  4.5  \n",
       "..               ...                  ...  \n",
       "161              4.5                  4.0  \n",
       "162              4.5                  5.0  \n",
       "163              2.5                  4.0  \n",
       "164              5.0                  4.5  \n",
       "165              2.5                  5.0  \n",
       "\n",
       "[166 rows x 7 columns]"
      ]
     },
     "execution_count": 2,
     "metadata": {},
     "output_type": "execute_result"
    }
   ],
   "source": [
    "data=pandas.read_csv(\"sleep_data.csv\")\n",
    "data"
   ]
  },
  {
   "cell_type": "markdown",
   "id": "5df3d3c5",
   "metadata": {},
   "source": [
    "## Dimensions du dataset"
   ]
  },
  {
   "cell_type": "code",
   "execution_count": 3,
   "id": "df9e4e95",
   "metadata": {},
   "outputs": [
    {
     "data": {
      "text/plain": [
       "(166, 7)"
      ]
     },
     "execution_count": 3,
     "metadata": {},
     "output_type": "execute_result"
    }
   ],
   "source": [
    "data.shape"
   ]
  },
  {
   "cell_type": "markdown",
   "id": "a069de14",
   "metadata": {},
   "source": [
    "# 2- Analyses statistiques"
   ]
  },
  {
   "cell_type": "markdown",
   "id": "856be6a6",
   "metadata": {},
   "source": [
    "## Nombre de jours d'observation"
   ]
  },
  {
   "cell_type": "code",
   "execution_count": 5,
   "id": "4880eea3",
   "metadata": {},
   "outputs": [
    {
     "data": {
      "text/plain": [
       "08.11.2017    3\n",
       "23.12.2017    3\n",
       "26.10.2017    3\n",
       "09.12.2017    3\n",
       "22.10.2017    3\n",
       "             ..\n",
       "10.11.2017    1\n",
       "30.11.2017    1\n",
       "01.01.2018    1\n",
       "02.01.2018    1\n",
       "11.12.2017    1\n",
       "Name: Date, Length: 103, dtype: int64"
      ]
     },
     "execution_count": 5,
     "metadata": {},
     "output_type": "execute_result"
    }
   ],
   "source": [
    "data['Date'].value_counts()"
   ]
  },
  {
   "cell_type": "code",
   "execution_count": 6,
   "id": "917729dc",
   "metadata": {},
   "outputs": [
    {
     "data": {
      "text/plain": [
       "103"
      ]
     },
     "execution_count": 6,
     "metadata": {},
     "output_type": "execute_result"
    }
   ],
   "source": [
    "distinct_dates_length=len(data['Date'].unique())\n",
    "distinct_dates_length"
   ]
  },
  {
   "cell_type": "markdown",
   "id": "f19c4720",
   "metadata": {},
   "source": [
    "## Statistiques sur la durée de sommeil"
   ]
  },
  {
   "cell_type": "code",
   "execution_count": 7,
   "id": "2699b6d7",
   "metadata": {},
   "outputs": [
    {
     "data": {
      "text/plain": [
       "<AxesSubplot:>"
      ]
     },
     "execution_count": 7,
     "metadata": {},
     "output_type": "execute_result"
    },
    {
     "data": {
      "image/png": "[encoded data removed]",
      "text/plain": [
       "<Figure size 432x288 with 1 Axes>"
      ]
     },
     "metadata": {
      "needs_background": "light"
     },
     "output_type": "display_data"
    }
   ],
   "source": [
    "data['Duration'].hist()"
   ]
  },
  {
   "cell_type": "code",
   "execution_count": 8,
   "id": "59c1da24",
   "metadata": {},
   "outputs": [
    {
     "data": {
      "text/plain": [
       "0.25"
      ]
     },
     "execution_count": 8,
     "metadata": {},
     "output_type": "execute_result"
    }
   ],
   "source": [
    "data['Duration'].min()"
   ]
  },
  {
   "cell_type": "code",
   "execution_count": 9,
   "id": "08c89660",
   "metadata": {},
   "outputs": [
    {
     "data": {
      "text/plain": [
       "10.25"
      ]
     },
     "execution_count": 9,
     "metadata": {},
     "output_type": "execute_result"
    }
   ],
   "source": [
    "data['Duration'].max()"
   ]
  },
  {
   "cell_type": "code",
   "execution_count": 10,
   "id": "a6a81da4",
   "metadata": {},
   "outputs": [
    {
     "data": {
      "text/plain": [
       "4.222228915662652"
      ]
     },
     "execution_count": 10,
     "metadata": {},
     "output_type": "execute_result"
    }
   ],
   "source": [
    "data['Duration'].mean()"
   ]
  },
  {
   "cell_type": "markdown",
   "id": "33f792dd",
   "metadata": {},
   "source": [
    "# 3- Modélisation de la journée"
   ]
  },
  {
   "cell_type": "markdown",
   "id": "f94f90c5",
   "metadata": {},
   "source": [
    "## A- Test des méthodes"
   ]
  },
  {
   "cell_type": "markdown",
   "id": "6ea04ceb",
   "metadata": {},
   "source": [
    "### Récupération des heures pour la première observation"
   ]
  },
  {
   "cell_type": "code",
   "execution_count": 11,
   "id": "794dba96",
   "metadata": {},
   "outputs": [
    {
     "data": {
      "text/plain": [
       "'23:30'"
      ]
     },
     "execution_count": 11,
     "metadata": {},
     "output_type": "execute_result"
    }
   ],
   "source": [
    "time1=data.loc[0,'Slept']\n",
    "time1"
   ]
  },
  {
   "cell_type": "code",
   "execution_count": 12,
   "id": "9735beb2",
   "metadata": {},
   "outputs": [
    {
     "data": {
      "text/plain": [
       "'05:00'"
      ]
     },
     "execution_count": 12,
     "metadata": {},
     "output_type": "execute_result"
    }
   ],
   "source": [
    "time2=data.loc[0,'Got up']\n",
    "time2"
   ]
  },
  {
   "cell_type": "markdown",
   "id": "4a8c2dc3",
   "metadata": {},
   "source": [
    "### Traduction en synthaxe datetime Python"
   ]
  },
  {
   "cell_type": "code",
   "execution_count": 13,
   "id": "308c3e1a",
   "metadata": {},
   "outputs": [
    {
     "name": "stdout",
     "output_type": "stream",
     "text": [
      "Start time: 23:30:00\n"
     ]
    }
   ],
   "source": [
    "t1 = datetime.strptime(time1, \"%H:%M\")\n",
    "print('Start time:', t1.time())"
   ]
  },
  {
   "cell_type": "code",
   "execution_count": 14,
   "id": "88c82466",
   "metadata": {},
   "outputs": [
    {
     "name": "stdout",
     "output_type": "stream",
     "text": [
      "End time: 05:00:00\n"
     ]
    }
   ],
   "source": [
    "t2 = datetime.strptime(time2, \"%H:%M\")\n",
    "print('End time:', t2.time())"
   ]
  },
  {
   "cell_type": "markdown",
   "id": "adccc8d8",
   "metadata": {},
   "source": [
    "### Comparaion des deux temps"
   ]
  },
  {
   "cell_type": "code",
   "execution_count": 15,
   "id": "c2c86501",
   "metadata": {},
   "outputs": [
    {
     "data": {
      "text/plain": [
       "False"
      ]
     },
     "execution_count": 15,
     "metadata": {},
     "output_type": "execute_result"
    }
   ],
   "source": [
    "t1 == t2"
   ]
  },
  {
   "cell_type": "markdown",
   "id": "98b431eb",
   "metadata": {},
   "source": [
    "### Différences en secondes des deux temps"
   ]
  },
  {
   "cell_type": "code",
   "execution_count": 16,
   "id": "95f442dd",
   "metadata": {},
   "outputs": [
    {
     "data": {
      "text/plain": [
       "datetime.timedelta(seconds=66600)"
      ]
     },
     "execution_count": 16,
     "metadata": {},
     "output_type": "execute_result"
    }
   ],
   "source": [
    "diff=t1-t2\n",
    "diff"
   ]
  },
  {
   "cell_type": "code",
   "execution_count": 17,
   "id": "f7de434d",
   "metadata": {},
   "outputs": [
    {
     "data": {
      "text/plain": [
       "66600.0"
      ]
     },
     "execution_count": 17,
     "metadata": {},
     "output_type": "execute_result"
    }
   ],
   "source": [
    "diff.total_seconds()"
   ]
  },
  {
   "cell_type": "markdown",
   "id": "27033303",
   "metadata": {},
   "source": [
    "### Ajout de secondes au temps"
   ]
  },
  {
   "cell_type": "markdown",
   "id": "0970a14f",
   "metadata": {},
   "source": [
    "15min = 900secondes "
   ]
  },
  {
   "cell_type": "code",
   "execution_count": 18,
   "id": "5d4dd849",
   "metadata": {},
   "outputs": [
    {
     "data": {
      "text/plain": [
       "datetime.timedelta(seconds=900)"
      ]
     },
     "execution_count": 18,
     "metadata": {},
     "output_type": "execute_result"
    }
   ],
   "source": [
    "_15min=timedelta(seconds=900)\n",
    "_15min"
   ]
  },
  {
   "cell_type": "code",
   "execution_count": 45,
   "id": "16d92dec",
   "metadata": {},
   "outputs": [
    {
     "name": "stdout",
     "output_type": "stream",
     "text": [
      "Début : 00:00:00\n",
      "Fin : 00:15:00\n"
     ]
    }
   ],
   "source": [
    "debut = datetime.strptime('00:00', \"%H:%M\")\n",
    "print('Début :', debut.time())\n",
    "\n",
    "fin = debut + _15min\n",
    "print('Fin :', fin.time())"
   ]
  },
  {
   "cell_type": "markdown",
   "id": "f9587de5",
   "metadata": {},
   "source": [
    "## B- Création et initialisation du tableau initial "
   ]
  },
  {
   "cell_type": "markdown",
   "id": "e2237a76",
   "metadata": {},
   "source": [
    "### Création"
   ]
  },
  {
   "cell_type": "code",
   "execution_count": 46,
   "id": "5643cff2",
   "metadata": {},
   "outputs": [
    {
     "name": "stdout",
     "output_type": "stream",
     "text": [
      "Start : 00:00:00\n"
     ]
    }
   ],
   "source": []
  },
  {
   "cell_type": "markdown",
   "id": "46a88875",
   "metadata": {},
   "source": [
    "### Initialisation"
   ]
  },
  {
   "cell_type": "code",
   "execution_count": 48,
   "id": "b931608a",
   "metadata": {},
   "outputs": [],
   "source": [
    "#Le début d'une journée\n",
    "start = datetime.strptime('00:00', \"%H:%M\")\n",
    "\n",
    "#On fixe le pas de discrétisation ici\n",
    "_min=1\n",
    "\n",
    "#Le pas de discrétisation converti en sec\n",
    "_sec=timedelta(seconds=_min*60)\n",
    "\n",
    "#Creation de la variable journée\n",
    "journee=[]\n",
    "\n",
    "#La variable qui permettra les insertions de dates\n",
    "currently = start\n",
    "\n",
    "#Equivalent de currently en secondes\n",
    "total_sec=0\n",
    "\n",
    "while (total_sec < 86400):\n",
    "    journee.append([currently, total_sec,0])\n",
    "    currently += _sec\n",
    "    \n",
    "    total_sec += _sec.total_seconds()"
   ]
  },
  {
   "cell_type": "code",
   "execution_count": 49,
   "id": "e4745c90",
   "metadata": {},
   "outputs": [
    {
     "data": {
      "text/plain": [
       "1440"
      ]
     },
     "execution_count": 49,
     "metadata": {},
     "output_type": "execute_result"
    }
   ],
   "source": [
    "len(journee)"
   ]
  },
  {
   "cell_type": "markdown",
   "id": "939248d1",
   "metadata": {},
   "source": [
    "## C- Algorithme "
   ]
  },
  {
   "cell_type": "code",
   "execution_count": 50,
   "id": "8a7496f0",
   "metadata": {},
   "outputs": [],
   "source": [
    "for i in range(data.shape[0]):\n",
    "    time1=data.loc[i,'Slept']\n",
    "    time2=data.loc[i,'Got up'] \n",
    "    \n",
    "    #Recupérer les temps en secondes avec comme reférence 00:00\n",
    "    t0 = datetime.strptime('00:00', \"%H:%M\")\n",
    "    t1 = (datetime.strptime(time1, \"%H:%M\") - t0).total_seconds()\n",
    "    t2 = (datetime.strptime(time2, \"%H:%M\") - t0).total_seconds()\n",
    "    \n",
    "    #Cas où par exemple il s'endort à 23:30 et se reveille à 00:05, on doit mettre t2 dans la journée suivante\n",
    "    if(t2 < t1):\n",
    "        t2+=86400\n",
    "    \n",
    "    #Parcours de notre discrétisation de journée\n",
    "    for j in range(len(journee)):\n",
    "        \n",
    "        #Recupérer la minute en secondes avec comme reférence 00:00\n",
    "        journee_sec = (journee[j][0] - t0).total_seconds()\n",
    "        \n",
    "        #Prendre les journee_sec dans l'intervalle compris en t1 et t2\n",
    "        #Et penser également aux:\n",
    "        #Cas où t2 est dans la journée suivante, on doit prendre en compte les journee_sec dans la journee qui suit\n",
    "        if((journee_sec >= t1 and journee_sec <= t2) or (journee_sec + 86400 >= t1 and journee_sec + 86400 <= t2) ):\n",
    "                journee[j][2] += 1\n"
   ]
  },
  {
   "cell_type": "markdown",
   "id": "2c61d908",
   "metadata": {},
   "source": [
    "### Conversion du résultat en tableau numpy"
   ]
  },
  {
   "cell_type": "code",
   "execution_count": 51,
   "id": "06300f78",
   "metadata": {},
   "outputs": [
    {
     "data": {
      "text/plain": [
       "array([[0, 77],\n",
       "       [60.0, 77],\n",
       "       [120.0, 77],\n",
       "       ...,\n",
       "       [86220.0, 74],\n",
       "       [86280.0, 74],\n",
       "       [86340.0, 75]], dtype=object)"
      ]
     },
     "execution_count": 51,
     "metadata": {},
     "output_type": "execute_result"
    }
   ],
   "source": [
    "data2=numpy.array(journee)\n",
    "\n",
    "#On va garder les deux dernières colonnes et laisser le dataetime\n",
    "data2=data2[:,1:]\n",
    "data2"
   ]
  },
  {
   "cell_type": "markdown",
   "id": "1f615d6c",
   "metadata": {},
   "source": [
    "### Récupération des deux colonnes sous forme de listes"
   ]
  },
  {
   "cell_type": "code",
   "execution_count": 52,
   "id": "4f5a4b7e",
   "metadata": {},
   "outputs": [],
   "source": [
    "heure=data2[:,0].tolist()\n",
    "occurences=data2[:,1].tolist()"
   ]
  },
  {
   "cell_type": "markdown",
   "id": "3b6ff3df",
   "metadata": {},
   "source": [
    "### Plotting"
   ]
  },
  {
   "cell_type": "code",
   "execution_count": 53,
   "id": "0fad0917",
   "metadata": {},
   "outputs": [
    {
     "data": {
      "image/png": "[encoded data removed]",
      "text/plain": [
       "<Figure size 432x288 with 1 Axes>"
      ]
     },
     "metadata": {
      "needs_background": "light"
     },
     "output_type": "display_data"
    }
   ],
   "source": [
    "plt.plot(heure, occurences)\n",
    "plt.xlabel('Journée en secondes')\n",
    "plt.ylabel(\"Nombre d'occurences\")\n",
    "\n",
    "plt.show()"
   ]
  },
  {
   "cell_type": "markdown",
   "id": "9e46d2c4",
   "metadata": {},
   "source": [
    "## C- Regression polynomiale "
   ]
  },
  {
   "cell_type": "markdown",
   "id": "bb9bd2fc",
   "metadata": {},
   "source": [
    "### Modèle"
   ]
  },
  {
   "cell_type": "code",
   "execution_count": 29,
   "id": "6d28cf95",
   "metadata": {},
   "outputs": [
    {
     "name": "stdout",
     "output_type": "stream",
     "text": [
      "           5             4             3             2\n",
      "2.031e-21 x - 4.458e-16 x + 3.513e-11 x - 1.147e-06 x + 0.01117 x + 73.65\n"
     ]
    }
   ],
   "source": [
    "modele = numpy.poly1d(numpy.polyfit(heure, occurences, 5))\n",
    "print(modele)"
   ]
  },
  {
   "cell_type": "markdown",
   "id": "34e14667",
   "metadata": {},
   "source": [
    "### Plotting"
   ]
  },
  {
   "cell_type": "code",
   "execution_count": 55,
   "id": "80c14c8e",
   "metadata": {},
   "outputs": [
    {
     "data": {
      "image/png": "[encoded data removed]",
      "text/plain": [
       "<Figure size 1080x576 with 1 Axes>"
      ]
     },
     "metadata": {
      "needs_background": "light"
     },
     "output_type": "display_data"
    }
   ],
   "source": [
    "plt.figure(figsize=(15,8))\n",
    "axe_x = numpy.linspace(1, 86400, 86400)\n",
    "plt.plot(heure, occurences, label=\"model_initial\")\n",
    "plt.plot(axe_x, modele(axe_x), color=\"orange\", label=\"model_regression\")\n",
    "plt.xlabel('Journée en secondes')\n",
    "plt.ylabel(\"Nombre d'occurences\")\n",
    "plt.savefig('regression.png')\n",
    "plt.legend() \n",
    "plt.show()"
   ]
  },
  {
   "cell_type": "markdown",
   "id": "6c6ec643",
   "metadata": {},
   "source": [
    "## D- Optimisation "
   ]
  },
  {
   "cell_type": "markdown",
   "id": "191e3231",
   "metadata": {},
   "source": [
    "### Ecriture de la fonction objectif à base des valeurs du modèle"
   ]
  },
  {
   "cell_type": "code",
   "execution_count": 58,
   "id": "32ea576c",
   "metadata": {},
   "outputs": [],
   "source": [
    "f1=lambda x: 2.031e-21*(x**5) - 4.458e-16*(x**4) + 3.513e-11*(x**3) - 1.147e-06*(x**2) + 0.01117*(x) + 73.65"
   ]
  },
  {
   "cell_type": "code",
   "execution_count": 59,
   "id": "f7bf2480",
   "metadata": {},
   "outputs": [
    {
     "data": {
      "text/plain": [
       "0.2964000000003182"
      ]
     },
     "execution_count": 59,
     "metadata": {},
     "output_type": "execute_result"
    }
   ],
   "source": [
    "f1(40000)"
   ]
  },
  {
   "cell_type": "code",
   "execution_count": 60,
   "id": "8e76af16",
   "metadata": {},
   "outputs": [
    {
     "data": {
      "image/png": "[encoded data removed]",
      "text/plain": [
       "<Figure size 1080x576 with 1 Axes>"
      ]
     },
     "metadata": {
      "needs_background": "light"
     },
     "output_type": "display_data"
    }
   ],
   "source": [
    "plt.figure(figsize=(15,8))\n",
    "axe_x = numpy.linspace(1, 86400, 86400)\n",
    "plt.plot(heure, occurences, label=\"model_initial\")\n",
    "plt.plot(axe_x, modele(axe_x), color=\"orange\", label=\"model_regression\")\n",
    "plt.plot(axe_x, f1(axe_x), color=\"green\", label=\"fonction_objectif_1\")\n",
    "plt.xlabel('Journée en secondes')\n",
    "plt.ylabel(\"Nombre d'occurences\")\n",
    "plt.legend()\n",
    "plt.show()"
   ]
  },
  {
   "cell_type": "markdown",
   "id": "e02ccb02",
   "metadata": {},
   "source": [
    "On a pris des valeurs approximatives pour créer notre fonction-objectif, si bien qu'elle ne colle pas entièrement avec le modele."
   ]
  },
  {
   "cell_type": "markdown",
   "id": "fd3705da",
   "metadata": {},
   "source": [
    "### Ecriture de la fonction objectif à base du modèle lui-mm"
   ]
  },
  {
   "cell_type": "code",
   "execution_count": 62,
   "id": "bf697120",
   "metadata": {},
   "outputs": [],
   "source": [
    "def f2(x, model_):\n",
    "    resultat=0\n",
    "    \n",
    "    for i in range(len(model_)+1):\n",
    "        x_i = model_[i]*(x**i)\n",
    "        \n",
    "        resultat += x_i\n",
    "    \n",
    "    return resultat"
   ]
  },
  {
   "cell_type": "code",
   "execution_count": 63,
   "id": "e3100061",
   "metadata": {},
   "outputs": [
    {
     "data": {
      "text/plain": [
       "1.0193562579506477"
      ]
     },
     "execution_count": 63,
     "metadata": {},
     "output_type": "execute_result"
    }
   ],
   "source": [
    "f2(40000,modele)"
   ]
  },
  {
   "cell_type": "code",
   "execution_count": 64,
   "id": "a548f795",
   "metadata": {},
   "outputs": [
    {
     "data": {
      "image/png": "[encoded data removed]",
      "text/plain": [
       "<Figure size 1080x576 with 1 Axes>"
      ]
     },
     "metadata": {
      "needs_background": "light"
     },
     "output_type": "display_data"
    }
   ],
   "source": [
    "plt.figure(figsize=(15,8))\n",
    "axe_x = numpy.linspace(1, 86400, 86400)\n",
    "plt.plot(heure, occurences, label=\"model_initial\")\n",
    "plt.plot(axe_x, modele(axe_x), color=\"orange\", label=\"model_regression\")\n",
    "plt.plot(axe_x, f2(axe_x,modele), color=\"green\", label=\"fonction_objectif_1\")\n",
    "plt.xlabel('Journée en secondes')\n",
    "plt.ylabel(\"Nombre d'occurences\")\n",
    "plt.legend()\n",
    "plt.show()"
   ]
  },
  {
   "cell_type": "markdown",
   "id": "6b895db0",
   "metadata": {},
   "source": [
    "### Optimisation avec SineCosineAlgorithm"
   ]
  },
  {
   "cell_type": "code",
   "execution_count": 65,
   "id": "0db59e5c",
   "metadata": {},
   "outputs": [],
   "source": [
    "import sys\n",
    "sys.path.append(\"/SCA\")\n",
    "import SCA"
   ]
  },
  {
   "cell_type": "code",
   "execution_count": 79,
   "id": "d55d3d1e",
   "metadata": {},
   "outputs": [
    {
     "name": "stdout",
     "output_type": "stream",
     "text": [
      "SCA optimise  \"f2\"\n",
      "[\"A l'iteration 0 la meilleure fitness est: -3.302706134613345\"]\n",
      "['Le meilleur associé est: [72543.56601448]']\n",
      "\n",
      "\n",
      "[\"A l'iteration 1 la meilleure fitness est: -3.302706134613345\"]\n",
      "['Le meilleur associé est: [72543.56601448]']\n",
      "\n",
      "\n",
      "[\"A l'iteration 2 la meilleure fitness est: -3.302917944301953\"]\n",
      "['Le meilleur associé est: [72645.75762299]']\n",
      "\n",
      "\n",
      "[\"A l'iteration 3 la meilleure fitness est: -3.302917944301953\"]\n",
      "['Le meilleur associé est: [72645.75762299]']\n",
      "\n",
      "\n",
      "[\"A l'iteration 4 la meilleure fitness est: -3.303285086040887\"]\n",
      "['Le meilleur associé est: [72597.48312118]']\n",
      "\n",
      "\n",
      "[\"A l'iteration 5 la meilleure fitness est: -3.303285086040887\"]\n",
      "['Le meilleur associé est: [72597.48312118]']\n",
      "\n",
      "\n",
      "[\"A l'iteration 6 la meilleure fitness est: -3.303285086040887\"]\n",
      "['Le meilleur associé est: [72597.48312118]']\n",
      "\n",
      "\n",
      "[\"A l'iteration 7 la meilleure fitness est: -3.303285086040887\"]\n",
      "['Le meilleur associé est: [72597.48312118]']\n",
      "\n",
      "\n",
      "[\"A l'iteration 8 la meilleure fitness est: -3.303285086040887\"]\n",
      "['Le meilleur associé est: [72597.48312118]']\n",
      "\n",
      "\n",
      "[\"A l'iteration 9 la meilleure fitness est: -3.303285086040887\"]\n",
      "['Le meilleur associé est: [72597.48312118]']\n",
      "\n",
      "\n",
      "[\"A l'iteration 10 la meilleure fitness est: -3.303285086040887\"]\n",
      "['Le meilleur associé est: [72597.48312118]']\n",
      "\n",
      "\n",
      "[\"A l'iteration 11 la meilleure fitness est: -3.303285086040887\"]\n",
      "['Le meilleur associé est: [72597.48312118]']\n",
      "\n",
      "\n",
      "[\"A l'iteration 12 la meilleure fitness est: -3.303285086040887\"]\n",
      "['Le meilleur associé est: [72597.48312118]']\n",
      "\n",
      "\n",
      "[\"A l'iteration 13 la meilleure fitness est: -3.303285086040887\"]\n",
      "['Le meilleur associé est: [72597.48312118]']\n",
      "\n",
      "\n",
      "[\"A l'iteration 14 la meilleure fitness est: -3.303285086040887\"]\n",
      "['Le meilleur associé est: [72597.48312118]']\n",
      "\n",
      "\n",
      "[\"A l'iteration 15 la meilleure fitness est: -3.303285086040887\"]\n",
      "['Le meilleur associé est: [72597.48312118]']\n",
      "\n",
      "\n",
      "[\"A l'iteration 16 la meilleure fitness est: -3.303285086040887\"]\n",
      "['Le meilleur associé est: [72597.48312118]']\n",
      "\n",
      "\n",
      "[\"A l'iteration 17 la meilleure fitness est: -3.303285086040887\"]\n",
      "['Le meilleur associé est: [72597.48312118]']\n",
      "\n",
      "\n",
      "[\"A l'iteration 18 la meilleure fitness est: -3.303285086040887\"]\n",
      "['Le meilleur associé est: [72597.48312118]']\n",
      "\n",
      "\n",
      "[\"A l'iteration 19 la meilleure fitness est: -3.303285086040887\"]\n",
      "['Le meilleur associé est: [72597.48312118]']\n",
      "\n",
      "\n",
      "[\"A l'iteration 20 la meilleure fitness est: -3.303285086040887\"]\n",
      "['Le meilleur associé est: [72597.48312118]']\n",
      "\n",
      "\n",
      "[\"A l'iteration 21 la meilleure fitness est: -3.303285086040887\"]\n",
      "['Le meilleur associé est: [72597.48312118]']\n",
      "\n",
      "\n",
      "[\"A l'iteration 22 la meilleure fitness est: -3.303285086040887\"]\n",
      "['Le meilleur associé est: [72597.48312118]']\n",
      "\n",
      "\n",
      "[\"A l'iteration 23 la meilleure fitness est: -3.303285086040887\"]\n",
      "['Le meilleur associé est: [72597.48312118]']\n",
      "\n",
      "\n",
      "[\"A l'iteration 24 la meilleure fitness est: -3.303285086040887\"]\n",
      "['Le meilleur associé est: [72597.48312118]']\n",
      "\n",
      "\n",
      "[\"A l'iteration 25 la meilleure fitness est: -3.303285086040887\"]\n",
      "['Le meilleur associé est: [72597.48312118]']\n",
      "\n",
      "\n",
      "[\"A l'iteration 26 la meilleure fitness est: -3.303285086040887\"]\n",
      "['Le meilleur associé est: [72597.48312118]']\n",
      "\n",
      "\n",
      "[\"A l'iteration 27 la meilleure fitness est: -3.303285086040887\"]\n",
      "['Le meilleur associé est: [72597.48312118]']\n",
      "\n",
      "\n",
      "[\"A l'iteration 28 la meilleure fitness est: -3.303285086040887\"]\n",
      "['Le meilleur associé est: [72597.48312118]']\n",
      "\n",
      "\n",
      "[\"A l'iteration 29 la meilleure fitness est: -3.303285086040887\"]\n",
      "['Le meilleur associé est: [72597.48312118]']\n",
      "\n",
      "\n",
      "[\"A l'iteration 30 la meilleure fitness est: -3.303285086040887\"]\n",
      "['Le meilleur associé est: [72597.48312118]']\n",
      "\n",
      "\n",
      "[\"A l'iteration 31 la meilleure fitness est: -3.303285086040887\"]\n",
      "['Le meilleur associé est: [72597.48312118]']\n",
      "\n",
      "\n",
      "[\"A l'iteration 32 la meilleure fitness est: -3.303285086040887\"]\n",
      "['Le meilleur associé est: [72597.48312118]']\n",
      "\n",
      "\n",
      "[\"A l'iteration 33 la meilleure fitness est: -3.303285086040887\"]\n",
      "['Le meilleur associé est: [72597.48312118]']\n",
      "\n",
      "\n",
      "[\"A l'iteration 34 la meilleure fitness est: -3.303285086040887\"]\n",
      "['Le meilleur associé est: [72597.48312118]']\n",
      "\n",
      "\n",
      "[\"A l'iteration 35 la meilleure fitness est: -3.303285086040887\"]\n",
      "['Le meilleur associé est: [72597.48312118]']\n",
      "\n",
      "\n",
      "[\"A l'iteration 36 la meilleure fitness est: -3.303285086040887\"]\n",
      "['Le meilleur associé est: [72597.48312118]']\n",
      "\n",
      "\n",
      "[\"A l'iteration 37 la meilleure fitness est: -3.303285086040887\"]\n",
      "['Le meilleur associé est: [72597.48312118]']\n",
      "\n",
      "\n",
      "[\"A l'iteration 38 la meilleure fitness est: -3.303285086040887\"]\n",
      "['Le meilleur associé est: [72597.48312118]']\n",
      "\n",
      "\n",
      "[\"A l'iteration 39 la meilleure fitness est: -3.303285086040887\"]\n",
      "['Le meilleur associé est: [72597.48312118]']\n",
      "\n",
      "\n"
     ]
    }
   ],
   "source": [
    "solution=SCA.SCA(fonction_objectif=f2, model_=modele, lb=0, ub=86399, dim_individu=1, nombreIndividus=200, Max_iter=40)"
   ]
  },
  {
   "cell_type": "markdown",
   "id": "b5abc361",
   "metadata": {},
   "source": [
    "### Convertir secondes en heures"
   ]
  },
  {
   "cell_type": "code",
   "execution_count": 80,
   "id": "44ceba96",
   "metadata": {},
   "outputs": [],
   "source": [
    "def convertion(seconds):\n",
    "    seconds = seconds % (24 * 3600)\n",
    "    hour = seconds // 3600\n",
    "    seconds %= 3600\n",
    "    minutes = seconds // 60\n",
    "    seconds %= 60\n",
    "      \n",
    "    return \"%d:%02d:%02d\" % (hour, minutes, seconds)"
   ]
  },
  {
   "cell_type": "code",
   "execution_count": 81,
   "id": "07be6348",
   "metadata": {},
   "outputs": [
    {
     "name": "stdout",
     "output_type": "stream",
     "text": [
      "L'heure précise à laquelle cet individu est le plus susceptible d'etre en éveil est: 20:09:57\n"
     ]
    }
   ],
   "source": [
    "texte=\"L'heure précise à laquelle cet individu est le plus susceptible d'etre en éveil est:\"\n",
    "print(texte+\" \"+convertion(solution[0][0]))"
   ]
  }
 ],
 "metadata": {
  "kernelspec": {
   "display_name": "mainconda",
   "language": "python",
   "name": "mainconda"
  },
  "language_info": {
   "codemirror_mode": {
    "name": "ipython",
    "version": 3
   },
   "file_extension": ".py",
   "mimetype": "text/x-python",
   "name": "python",
   "nbconvert_exporter": "python",
   "pygments_lexer": "ipython3",
   "version": "3.9.7"
  },
  "varInspector": {
   "cols": {
    "lenName": 16,
    "lenType": 16,
    "lenVar": 40
   },
   "kernels_config": {
    "python": {
     "delete_cmd_postfix": "",
     "delete_cmd_prefix": "del ",
     "library": "var_list.py",
     "varRefreshCmd": "print(var_dic_list())"
    },
    "r": {
     "delete_cmd_postfix": ") ",
     "delete_cmd_prefix": "rm(",
     "library": "var_list.r",
     "varRefreshCmd": "cat(var_dic_list()) "
    }
   },
   "types_to_exclude": [
    "module",
    "function",
    "builtin_function_or_method",
    "instance",
    "_Feature"
   ],
   "window_display": false
  }
 },
 "nbformat": 4,
 "nbformat_minor": 5
}
